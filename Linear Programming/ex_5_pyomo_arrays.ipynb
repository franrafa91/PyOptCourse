{
 "cells": [
  {
   "cell_type": "markdown",
   "id": "f22de02b",
   "metadata": {},
   "source": [
    "## Simple Electrical Grid"
   ]
  },
  {
   "cell_type": "markdown",
   "id": "17eaa915",
   "metadata": {},
   "source": [
    "<table>\n",
    "<tr>\n",
    "<th> Power Generation </th>\n",
    "<th> Load Points (Pd) </th>\n",
    "</tr>\n",
    "<tr>\n",
    "<td>\n",
    "\n",
    "| **ID** | **Cost** | **Generation Limit** |\n",
    "| ------- | ------| ------- |\n",
    "| 0 | 0.10 | 20 kW |\n",
    "| 1 | 0.05 | 10 kW |\n",
    "| 2 | 0.30 | 40 kW |\n",
    "| 3 | 0.40 | 50 kW |\n",
    "| 4 | 0.01 | 5 kW |\n",
    "\n",
    "</td>\n",
    "<td>\n",
    "\n",
    "| **ID** | **Load Demand**|\n",
    "| -- | -- |\n",
    "| 0 | 50kW|\n",
    "| 1 | 20kW|\n",
    "| 2 | 30kW|\n",
    "\n",
    "</td>\n",
    "</tr>\n",
    "</table>"
   ]
  },
  {
   "cell_type": "markdown",
   "id": "362333c4",
   "metadata": {},
   "source": [
    "### Formulation\n",
    "\n",
    "$\\text{min} \\sum_{i_g=0}^{4}{C_g(i_g)\\cdot P_g(i_g)}$\n",
    "\n",
    "$\\sum_{i_g=0}^{4}{P_g(i_g)} ==  \\sum_{i_c=0}^{2}{P_d(i_d)}\\quad ←\\quad \\text{Sum of Generation == Sum of Demand}\\\\$\n",
    "$P_d(0) \\le P_g(0) + P_g(3)\\quad ← \\quad \\text{Only generators 0 and 3 can provide power to load point 0} \\\\\n",
    "P_g(i_g) \\ge 0,\\ \\forall\\ i_g \\quad ← \\quad \\text{Cannot generate negative Production}\\\\\n",
    "P_g(i_g) \\le L_g(i_g),\\ \\forall\\ i_g \\quad ← \\quad \\text{Production should be below Plant Limit}$\n",
    "\n",
    "\n",
    "$i_g \\rightarrow \\text{Identifier for Generator }g\\\\\n",
    "i_d \\rightarrow \\text{Identifier for Load Point }d\\\\\n",
    "C_g \\rightarrow \\text{Cost of Generation}\\\\\n",
    "P_g \\rightarrow \\text{Power Generated}\\\\\n",
    "L_g \\rightarrow \\text{Production Limit for Generator}$\n",
    "\n",
    "*Nomenclature is weird because the index seems to be inside parentheses. Maybe it refers to array notation.*"
   ]
  },
  {
   "cell_type": "code",
   "execution_count": 14,
   "id": "3ea0d23b",
   "metadata": {},
   "outputs": [],
   "source": [
    "import pandas as pd\n",
    "df_plants = pd.DataFrame({'id':[0,1,2,3,4], 'Cost':[0.1,0.05,0.3,0.4,0.01],'Limit':[20,10,40,50,5]})\n",
    "df_demand = pd.DataFrame({'id':[0,1,2],'Demand':[50,20,30]})"
   ]
  },
  {
   "cell_type": "markdown",
   "id": "349b18b7",
   "metadata": {},
   "source": [
    "# Implement in Pyomo"
   ]
  },
  {
   "cell_type": "code",
   "execution_count": 15,
   "id": "eb513d8a",
   "metadata": {},
   "outputs": [],
   "source": [
    "import pyomo.environ as pyo\n",
    "from pyomo.environ import *\n",
    "from pyomo.opt import SolverFactory"
   ]
  },
  {
   "cell_type": "code",
   "execution_count": 16,
   "id": "445ed5fe",
   "metadata": {},
   "outputs": [],
   "source": [
    "n_plants = len(df_plants)"
   ]
  },
  {
   "cell_type": "code",
   "execution_count": 17,
   "id": "376c561a",
   "metadata": {},
   "outputs": [],
   "source": [
    "model = pyo.ConcreteModel()\n",
    "model.Pg = pyo.Var(range(n_plants),bounds=(0,None))"
   ]
  },
  {
   "cell_type": "code",
   "execution_count": 18,
   "id": "593816d9",
   "metadata": {},
   "outputs": [
    {
     "name": "stdout",
     "output_type": "stream",
     "text": [
      "Pg[0] + Pg[1] + Pg[2] + Pg[3] + Pg[4] should equal 100.\n"
     ]
    }
   ],
   "source": [
    "# Build constraint related to total production and total demand\n",
    "Pg_sum = sum([model.Pg[i] for i in range(n_plants)])\n",
    "Pd_sum = df_demand['Demand'].sum() \n",
    "model.balance = pyo.Constraint(expr = Pg_sum == Pd_sum)\n",
    "print(f\"{Pg_sum} should equal {Pd_sum}.\")"
   ]
  },
  {
   "cell_type": "code",
   "execution_count": 19,
   "id": "a2c85f54",
   "metadata": {},
   "outputs": [],
   "source": [
    "# Build constraint on load point 0\n",
    "model.cond0 = pyo.Constraint(expr = model.Pg[0] + model.Pg[3] >= df_demand['Demand'][0])"
   ]
  },
  {
   "cell_type": "code",
   "execution_count": 20,
   "id": "ba48416d",
   "metadata": {},
   "outputs": [],
   "source": [
    "# Build constraint on Limit per Powerplant\n",
    "for i in range(n_plants):\n",
    "    model.Pg[i].upper = df_plants['Limit'][i]"
   ]
  },
  {
   "cell_type": "code",
   "execution_count": 21,
   "id": "c90d0d51",
   "metadata": {},
   "outputs": [
    {
     "name": "stdout",
     "output_type": "stream",
     "text": [
      "Pg : Size=5, Index={0, 1, 2, 3, 4}\n",
      "    Key : Lower : Value : Upper : Fixed : Stale : Domain\n",
      "      0 :     0 :  None :    20 : False :  True :  Reals\n",
      "      1 :     0 :  None :    10 : False :  True :  Reals\n",
      "      2 :     0 :  None :    40 : False :  True :  Reals\n",
      "      3 :     0 :  None :    50 : False :  True :  Reals\n",
      "      4 :     0 :  None :     5 : False :  True :  Reals\n"
     ]
    }
   ],
   "source": [
    "# Revise status of Variables\n",
    "model.Pg.pprint()"
   ]
  },
  {
   "cell_type": "code",
   "execution_count": 22,
   "id": "8c92eac1",
   "metadata": {},
   "outputs": [],
   "source": [
    "# Define Objective Function\n",
    "objective = sum([model.Pg[i]*df_plants['Cost'][i] for i in range(n_plants)])\n",
    "model.obj = pyo.Objective(expr = objective)"
   ]
  },
  {
   "cell_type": "code",
   "execution_count": 23,
   "id": "0fb4ce06",
   "metadata": {},
   "outputs": [
    {
     "data": {
      "text/html": [
       "<div>\n",
       "<style scoped>\n",
       "    .dataframe tbody tr th:only-of-type {\n",
       "        vertical-align: middle;\n",
       "    }\n",
       "\n",
       "    .dataframe tbody tr th {\n",
       "        vertical-align: top;\n",
       "    }\n",
       "\n",
       "    .dataframe thead th {\n",
       "        text-align: right;\n",
       "    }\n",
       "</style>\n",
       "<table border=\"1\" class=\"dataframe\">\n",
       "  <thead>\n",
       "    <tr style=\"text-align: right;\">\n",
       "      <th></th>\n",
       "      <th>id</th>\n",
       "      <th>Cost</th>\n",
       "      <th>Limit</th>\n",
       "      <th>Pg</th>\n",
       "    </tr>\n",
       "  </thead>\n",
       "  <tbody>\n",
       "    <tr>\n",
       "      <th>0</th>\n",
       "      <td>0</td>\n",
       "      <td>0.10</td>\n",
       "      <td>20</td>\n",
       "      <td>20.0</td>\n",
       "    </tr>\n",
       "    <tr>\n",
       "      <th>1</th>\n",
       "      <td>1</td>\n",
       "      <td>0.05</td>\n",
       "      <td>10</td>\n",
       "      <td>10.0</td>\n",
       "    </tr>\n",
       "    <tr>\n",
       "      <th>2</th>\n",
       "      <td>2</td>\n",
       "      <td>0.30</td>\n",
       "      <td>40</td>\n",
       "      <td>35.0</td>\n",
       "    </tr>\n",
       "    <tr>\n",
       "      <th>3</th>\n",
       "      <td>3</td>\n",
       "      <td>0.40</td>\n",
       "      <td>50</td>\n",
       "      <td>30.0</td>\n",
       "    </tr>\n",
       "    <tr>\n",
       "      <th>4</th>\n",
       "      <td>4</td>\n",
       "      <td>0.01</td>\n",
       "      <td>5</td>\n",
       "      <td>5.0</td>\n",
       "    </tr>\n",
       "  </tbody>\n",
       "</table>\n",
       "</div>"
      ],
      "text/plain": [
       "   id  Cost  Limit    Pg\n",
       "0   0  0.10     20  20.0\n",
       "1   1  0.05     10  10.0\n",
       "2   2  0.30     40  35.0\n",
       "3   3  0.40     50  30.0\n",
       "4   4  0.01      5   5.0"
      ]
     },
     "execution_count": 23,
     "metadata": {},
     "output_type": "execute_result"
    }
   ],
   "source": [
    "opt = SolverFactory('gurobi')\n",
    "results = opt.solve(model)\n",
    "\n",
    "df_plants['Pg'] = [pyo.value(model.Pg[i]) for i in range(n_plants)]\n",
    "df_plants"
   ]
  },
  {
   "cell_type": "code",
   "execution_count": 26,
   "id": "10ddab6f",
   "metadata": {},
   "outputs": [
    {
     "name": "stdout",
     "output_type": "stream",
     "text": [
      "\n",
      "Problem: \n",
      "- Name: x1\n",
      "  Lower bound: 25.05\n",
      "  Upper bound: 25.05\n",
      "  Number of objectives: 1\n",
      "  Number of constraints: 2\n",
      "  Number of variables: 5\n",
      "  Number of binary variables: 0\n",
      "  Number of integer variables: 0\n",
      "  Number of continuous variables: 5\n",
      "  Number of nonzeros: 7\n",
      "  Sense: minimize\n",
      "Solver: \n",
      "- Status: ok\n",
      "  Return code: 0\n",
      "  Message: Model was solved to optimality (subject to tolerances), and an optimal solution is available.\n",
      "  Termination condition: optimal\n",
      "  Termination message: Model was solved to optimality (subject to tolerances), and an optimal solution is available.\n",
      "  Wall time: 0.003999948501586914\n",
      "  Error rc: 0\n",
      "Solution: \n",
      "- number of solutions: 0\n",
      "  number of solutions displayed: 0\n",
      "\n"
     ]
    }
   ],
   "source": [
    "print(results)"
   ]
  }
 ],
 "metadata": {
  "kernelspec": {
   "display_name": "pyopt",
   "language": "python",
   "name": "python3"
  },
  "language_info": {
   "codemirror_mode": {
    "name": "ipython",
    "version": 3
   },
   "file_extension": ".py",
   "mimetype": "text/x-python",
   "name": "python",
   "nbconvert_exporter": "python",
   "pygments_lexer": "ipython3",
   "version": "3.13.7"
  }
 },
 "nbformat": 4,
 "nbformat_minor": 5
}
