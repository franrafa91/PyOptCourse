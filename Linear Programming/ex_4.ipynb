{
 "cells": [
  {
   "cell_type": "markdown",
   "id": "ef44b6ad",
   "metadata": {},
   "source": [
    "Show the optimal solution and processing time for the following problem:\n",
    "\n",
    "$\\text{min} -4x-2y\\\\\n",
    "x+y \\le 8\\\\\n",
    "8x+3y \\ge -24\\\\\n",
    "-6x+8y\\le 48\\\\\n",
    "3x+5y \\le 15\\\\\n",
    "x\\le 3\\\\\n",
    "y\\ge 0\n",
    "$\n",
    "\n",
    "\n"
   ]
  },
  {
   "cell_type": "code",
   "execution_count": 2,
   "id": "ccfeea1b",
   "metadata": {},
   "outputs": [],
   "source": [
    "import time"
   ]
  },
  {
   "cell_type": "markdown",
   "id": "e5442a57",
   "metadata": {},
   "source": [
    "## ortools"
   ]
  },
  {
   "cell_type": "code",
   "execution_count": 31,
   "id": "dc6398ac",
   "metadata": {},
   "outputs": [],
   "source": [
    "solvers = ['CLP','GLOP','Gurobi_LP']"
   ]
  },
  {
   "cell_type": "code",
   "execution_count": 32,
   "id": "defb7382",
   "metadata": {},
   "outputs": [
    {
     "name": "stdout",
     "output_type": "stream",
     "text": [
      "Optimal value pair: (-3.0,0.0)\n",
      "Optimized result: -3.0, obtained with ortools using CLP in 0.0012288093566894531 seconds\n",
      "Optimal value pair: (-3.000000000000001,0.0)\n",
      "Optimized result: -3.000000000000001, obtained with ortools using GLOP in 0.0009667873382568359 seconds\n",
      "Optimal value pair: (-3.0,0.0)\n",
      "Optimized result: -3.0, obtained with ortools using Gurobi_LP in 0.012195348739624023 seconds\n"
     ]
    }
   ],
   "source": [
    "from ortools.linear_solver import pywraplp\n",
    "\n",
    "for solver_name in solvers:\n",
    "    start  = time.time()\n",
    "    solver = pywraplp.Solver.CreateSolver(solver_name)\n",
    "\n",
    "    x = solver.NumVar(-10,10,'x')\n",
    "    y = solver.NumVar(0,10,'y')\n",
    "\n",
    "    solver.Add(   x +   y <=   8)\n",
    "    solver.Add( 8*x + 3*y >= -24)\n",
    "    solver.Add(-6*x + 8*y <=  48)\n",
    "    solver.Add( 3*x + 5*y <=  15)\n",
    "    solver.Add(   x       <=   3)\n",
    "    solver.Add(         y >=   0)\n",
    "\n",
    "    solver.Minimize(x+y)\n",
    "\n",
    "    results = solver.Solve()\n",
    "\n",
    "    x_val = x.solution_value()\n",
    "    y_val = y.solution_value()\n",
    "\n",
    "    end = time.time()\n",
    "\n",
    "    print(f\"Optimal value pair: ({x_val},{y_val})\")\n",
    "    print(f\"Optimized result: {x_val+y_val}, obtained with {\"ortools\"} using {solver_name} in {end-start} seconds\")"
   ]
  },
  {
   "cell_type": "markdown",
   "id": "7e137327",
   "metadata": {},
   "source": [
    "## Pyomo"
   ]
  },
  {
   "cell_type": "code",
   "execution_count": 48,
   "id": "2f3c17c6",
   "metadata": {},
   "outputs": [],
   "source": [
    "solvers = ['glpk','gurobi']"
   ]
  },
  {
   "cell_type": "code",
   "execution_count": 55,
   "id": "fe2e6317",
   "metadata": {},
   "outputs": [
    {
     "name": "stdout",
     "output_type": "stream",
     "text": [
      "Optimal value pair: (-3.0,0.0)\n",
      "Optimized result: -3.0, obtained with pyomo using glpk in 1.1221954822540283 seconds\n",
      "Optimal value pair: (-3.0,0.0)\n",
      "Optimized result: -3.0, obtained with pyomo using gurobi in 0.11577677726745605 seconds\n"
     ]
    }
   ],
   "source": [
    "import pyomo.environ as pyo\n",
    "from pyomo.environ import *\n",
    "from pyomo.opt import SolverFactory\n",
    "\n",
    "for solver_name in solvers:\n",
    "    start  = time.time()    \n",
    "    model = pyo.ConcreteModel()\n",
    "\n",
    "    model.x = pyo.Var(bounds=(-10,10))\n",
    "    model.y = pyo.Var(bounds=(-10,10))\n",
    "\n",
    "    x = model.x\n",
    "    y = model.y\n",
    "\n",
    "    model.C1 = pyo.Constraint(expr =    x +   y <=   8)\n",
    "    model.C2 = pyo.Constraint(expr =  8*x + 3*y >= -24)\n",
    "    model.C3 = pyo.Constraint(expr = -6*x + 8*y <=  48)\n",
    "    model.C4 = pyo.Constraint(expr =  3*x + 5*y <=  15)\n",
    "    model.C5 = pyo.Constraint(expr =    x       <=   3)\n",
    "    model.C6 = pyo.Constraint(expr =          y >=   0)\n",
    "\n",
    "    model.obj = pyo.Objective(expr = x   +   y, sense = minimize)\n",
    "\n",
    "    opt = SolverFactory(solver_name)\n",
    "    opt.solve(model)\n",
    "\n",
    "    #model.pprint()\n",
    "\n",
    "    x_val = pyo.value(x)\n",
    "    y_val = pyo.value(y)\n",
    "\n",
    "    end = time.time()\n",
    "\n",
    "    print(f\"Optimal value pair: ({x_val},{y_val})\")\n",
    "    print(f\"Optimized result: {x_val+y_val}, obtained with {\"pyomo\"} using {solver_name} in {end-start} seconds\")"
   ]
  },
  {
   "cell_type": "markdown",
   "id": "7473eaa4",
   "metadata": {},
   "source": [
    "## Pulp"
   ]
  },
  {
   "cell_type": "code",
   "execution_count": 60,
   "id": "9361122c",
   "metadata": {},
   "outputs": [
    {
     "data": {
      "text/plain": [
       "['GLPK_CMD', 'GUROBI', 'GUROBI_CMD', 'PULP_CBC_CMD']"
      ]
     },
     "execution_count": 60,
     "metadata": {},
     "output_type": "execute_result"
    }
   ],
   "source": [
    "solvers = pl.listSolvers(onlyAvailable=True)\n",
    "solvers"
   ]
  },
  {
   "cell_type": "code",
   "execution_count": 64,
   "id": "e58888a2",
   "metadata": {},
   "outputs": [
    {
     "name": "stdout",
     "output_type": "stream",
     "text": [
      "Optimal value pair: (-3.0,0.0)\n",
      "Optimized result: -3.0, obtained with pulp using GLPK_CMD in 0.5298922061920166 seconds\n",
      "Gurobi Optimizer version 12.0.3 build v12.0.3rc0 (win64 - Windows 11.0 (22631.2))\n",
      "\n",
      "CPU model: Intel(R) Core(TM) i5-8350U CPU @ 1.70GHz, instruction set [SSE2|AVX|AVX2]\n",
      "Thread count: 4 physical cores, 8 logical processors, using up to 8 threads\n",
      "\n",
      "Optimize a model with 6 rows, 2 columns and 10 nonzeros\n",
      "Model fingerprint: 0xa3cbeb40\n",
      "Coefficient statistics:\n",
      "  Matrix range     [1e+00, 8e+00]\n",
      "  Objective range  [1e+00, 1e+00]\n",
      "  Bounds range     [1e+01, 1e+01]\n",
      "  RHS range        [3e+00, 5e+01]\n",
      "Presolve removed 2 rows and 0 columns\n",
      "Presolve time: 0.03s\n",
      "Presolved: 4 rows, 2 columns, 8 nonzeros\n",
      "\n",
      "Iteration    Objective       Primal Inf.    Dual Inf.      Time\n",
      "       0   -3.0000000e+00   0.000000e+00   0.000000e+00      0s\n",
      "       0   -3.0000000e+00   0.000000e+00   0.000000e+00      0s\n",
      "\n",
      "Solved in 0 iterations and 0.04 seconds (0.00 work units)\n",
      "Optimal objective -3.000000000e+00\n",
      "Gurobi status= 2\n",
      "Optimal value pair: (-3.0,0.0)\n",
      "Optimized result: -3.0, obtained with pulp using GUROBI in 0.09041261672973633 seconds\n",
      "Optimal value pair: (-3.0,0.0)\n",
      "Optimized result: -3.0, obtained with pulp using GUROBI_CMD in 0.14962410926818848 seconds\n",
      "Optimal value pair: (-3.0,0.0)\n",
      "Optimized result: -3.0, obtained with pulp using PULP_CBC_CMD in 0.3488881587982178 seconds\n"
     ]
    }
   ],
   "source": [
    "import pulp as pl\n",
    "\n",
    "for solver_name in solvers:\n",
    "    start = time.time()\n",
    "    model = pl.LpProblem('Ex',pl.LpMinimize)\n",
    "    x = pl.LpVariable('x',-10,10)\n",
    "    y = pl.LpVariable('y',-10,10)\n",
    "\n",
    "    model +=    x +   y <=   8\n",
    "    model +=  8*x + 3*y >= -24\n",
    "    model += -6*x + 8*y <=  48\n",
    "    model +=  3*x + 5*y <=  15\n",
    "    model +=    x       <=   3\n",
    "    model +=          y >=   0\n",
    "\n",
    "    model += x+y\n",
    "    \n",
    "    solver = pl.getSolver(solver_name)\n",
    "    status = model.solve(solver)\n",
    "\n",
    "    x_val = pl.value(x)\n",
    "    y_val = pl.value(y)\n",
    "    end = time.time()\n",
    "\n",
    "    print(f\"Optimal value pair: ({x_val},{y_val})\")\n",
    "    print(f\"Optimized result: {x_val+y_val}, obtained with {\"pulp\"} using {solver_name} in {end-start} seconds\")"
   ]
  }
 ],
 "metadata": {
  "kernelspec": {
   "display_name": "pyopt",
   "language": "python",
   "name": "python3"
  },
  "language_info": {
   "codemirror_mode": {
    "name": "ipython",
    "version": 3
   },
   "file_extension": ".py",
   "mimetype": "text/x-python",
   "name": "python",
   "nbconvert_exporter": "python",
   "pygments_lexer": "ipython3",
   "version": "3.13.7"
  }
 },
 "nbformat": 4,
 "nbformat_minor": 5
}
